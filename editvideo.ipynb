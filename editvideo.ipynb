{
 "cells": [
  {
   "cell_type": "code",
   "execution_count": 22,
   "id": "0d752621",
   "metadata": {},
   "outputs": [],
   "source": [
    "import cv2\n",
    "import os"
   ]
  },
  {
   "cell_type": "code",
   "execution_count": 54,
   "id": "aaa639b1",
   "metadata": {},
   "outputs": [],
   "source": [
    "cap = cv2.VideoCapture(os.path.relpath('soccer.mp4'))  # 改成你的路径"
   ]
  },
  {
   "cell_type": "code",
   "execution_count": null,
   "id": "2352f9a6",
   "metadata": {},
   "outputs": [
    {
     "name": "stderr",
     "output_type": "stream",
     "text": [
      "[h264 @ 0x13ed6cac0] co located POCs unavailable\n",
      "[h264 @ 0x13ed74580] co located POCs unavailable\n",
      "[h264 @ 0x13ed6cac0] co located POCs unavailable\n",
      "[h264 @ 0x13ed74580] co located POCs unavailable\n",
      "[h264 @ 0x13ed6cac0] co located POCs unavailable\n",
      "[h264 @ 0x13ed74580] co located POCs unavailable\n",
      "[h264 @ 0x13ed6cac0] co located POCs unavailable\n",
      "[h264 @ 0x13ed74580] co located POCs unavailable\n",
      "[h264 @ 0x13ed7cde0] co located POCs unavailable\n",
      "[h264 @ 0x13ed6cac0] co located POCs unavailable\n",
      "[h264 @ 0x13ed74580] co located POCs unavailable\n"
     ]
    },
    {
     "ename": "KeyboardInterrupt",
     "evalue": "",
     "output_type": "error",
     "traceback": [
      "\u001b[31m---------------------------------------------------------------------------\u001b[39m",
      "\u001b[31mKeyboardInterrupt\u001b[39m                         Traceback (most recent call last)",
      "\u001b[36mCell\u001b[39m\u001b[36m \u001b[39m\u001b[32mIn[55]\u001b[39m\u001b[32m, line 14\u001b[39m\n\u001b[32m     12\u001b[39m     cv2.imshow(\u001b[33m'\u001b[39m\u001b[33mVideo\u001b[39m\u001b[33m'\u001b[39m, frame)\n\u001b[32m     13\u001b[39m     \u001b[38;5;66;03m# 按 q 退出；数字越小播放越快（以毫秒为单位）\u001b[39;00m\n\u001b[32m---> \u001b[39m\u001b[32m14\u001b[39m     \u001b[38;5;28;01mif\u001b[39;00m \u001b[43mcv2\u001b[49m\u001b[43m.\u001b[49m\u001b[43mwaitKey\u001b[49m\u001b[43m(\u001b[49m\u001b[43mwait_time\u001b[49m\u001b[43m)\u001b[49m & \u001b[32m0xFF\u001b[39m == \u001b[38;5;28mord\u001b[39m(\u001b[33m'\u001b[39m\u001b[33mq\u001b[39m\u001b[33m'\u001b[39m):\n\u001b[32m     15\u001b[39m         \u001b[38;5;28;01mbreak\u001b[39;00m\n\u001b[32m     16\u001b[39m cap.release()\n",
      "\u001b[31mKeyboardInterrupt\u001b[39m: "
     ]
    }
   ],
   "source": [
    "fps = cap.get(cv2.CAP_PROP_FPS)\n",
    "wait_time = int(1/25*1e3)\n",
    "start_time = 82*60\n",
    "start_frame = int(start_time*fps)\n",
    "if not cap.isOpened():\n",
    "    raise RuntimeError('Cannot open video')\n",
    "cap.set(cv2.CAP_PROP_POS_FRAMES, start_frame)\n",
    "while True:\n",
    "    ret, frame = cap.read()\n",
    "    if not ret:\n",
    "        break\n",
    "    cv2.imshow('Video', frame)\n",
    "    # 按 q 退出；数字越小播放越快（以毫秒为单位）\n",
    "    if cv2.waitKey(wait_time) & 0xFF == ord('q'):\n",
    "        break\n",
    "cap.release()\n",
    "cv2.destroyAllWindows()"
   ]
  },
  {
   "cell_type": "code",
   "execution_count": 60,
   "id": "9b72f4c0",
   "metadata": {},
   "outputs": [
    {
     "name": "stderr",
     "output_type": "stream",
     "text": [
      "[h264 @ 0x105a8a940] co located POCs unavailable\n",
      "[h264 @ 0x105a93200] co located POCs unavailable\n",
      "[h264 @ 0x105a8a940] co located POCs unavailable\n",
      "[h264 @ 0x105a93200] co located POCs unavailable\n",
      "[h264 @ 0x105abe1c0] Missing reference picture, default is 0\n",
      "[h264 @ 0x105a8a940] co located POCs unavailable\n",
      "[h264 @ 0x105a93200] co located POCs unavailable\n",
      "[h264 @ 0x105a8a940] co located POCs unavailable\n",
      "[h264 @ 0x105a93200] co located POCs unavailable\n",
      "[h264 @ 0x105abe1c0] co located POCs unavailable\n",
      "[h264 @ 0x105a8a940] co located POCs unavailable\n"
     ]
    }
   ],
   "source": [
    "cap2 = cv2.VideoCapture(os.path.relpath('soccer.mp4'))  # 改成你的路径\n",
    "fps = cap2.get(cv2.CAP_PROP_FPS)\n",
    "w = int(cap2.get(cv2.CAP_PROP_FRAME_WIDTH))\n",
    "h = int(cap2.get(cv2.CAP_PROP_FRAME_HEIGHT))\n",
    "\n",
    "out = cv2.VideoWriter('soccer_noaudio.mp4',\n",
    "                      cv2.VideoWriter_fourcc(*'mp4v'), fps, (w, h))\n",
    "start_time = 83.7*60\n",
    "stop_time = 85*60\n",
    "start_frame = int(start_time*fps)\n",
    "stop_frame = int(stop_time*fps)\n",
    "cap2.set(cv2.CAP_PROP_POS_FRAMES, start_frame)\n",
    "lenth = stop_frame - start_frame\n",
    "for i in range(lenth):\n",
    "    ret, frame = cap2.read()\n",
    "    if not ret:\n",
    "        break\n",
    "    out.write(frame)\n",
    "cap2.release()\n",
    "out.release()\n"
   ]
  }
 ],
 "metadata": {
  "kernelspec": {
   "display_name": "cvenv",
   "language": "python",
   "name": "python3"
  },
  "language_info": {
   "codemirror_mode": {
    "name": "ipython",
    "version": 3
   },
   "file_extension": ".py",
   "mimetype": "text/x-python",
   "name": "python",
   "nbconvert_exporter": "python",
   "pygments_lexer": "ipython3",
   "version": "3.12.11"
  }
 },
 "nbformat": 4,
 "nbformat_minor": 5
}
